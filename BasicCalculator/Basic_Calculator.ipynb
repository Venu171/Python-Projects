{
 "cells": [
  {
   "cell_type": "markdown",
   "id": "3d7c787f-8219-4f4f-a2d6-39cb1d8b4da1",
   "metadata": {},
   "source": [
    "#  Basic Calculator\n",
    "#### Key Concepts of Basic Calculator in Python\n",
    "##### Arithmetic Operations\n",
    "- Addition(+)✅\n",
    "- Subtraction(-)✅\n",
    "- Multiplication(*)✅\n",
    "- Exponentiation(**)✅\n",
    "- Division(/)✅\n",
    "- Modulo operator(%)✅\n",
    "\n",
    "##### User Input Handling:\n",
    "- Using input() function✅\n",
    "- Converting strings to integers or floats✅\n",
    "##### Functions in Python:\n",
    "- Defining functions for calculations✅\n",
    "- Calling functions with user inputs✅\n",
    "##### Error Handling:\n",
    "- Handling division by zero✅\n",
    "- Handling invalid inputs✅"
   ]
  },
  {
   "cell_type": "code",
   "execution_count": 20,
   "id": "4657323c-fb2b-44d6-9e2a-afc30c23de62",
   "metadata": {},
   "outputs": [],
   "source": [
    "# Addition function returning sum of two numbers.\n",
    "def addition(a,b):\n",
    "    return a+b"
   ]
  },
  {
   "cell_type": "code",
   "execution_count": 21,
   "id": "c6695920-3301-40bc-b748-4885291f94ce",
   "metadata": {},
   "outputs": [],
   "source": [
    "# Subtraction function returning the subtraction of b from a.\n",
    "def subtraction(a,b):\n",
    "    return a-b"
   ]
  },
  {
   "cell_type": "code",
   "execution_count": 22,
   "id": "3bb91914-0966-4e66-87da-02b1d1b289c5",
   "metadata": {},
   "outputs": [],
   "source": [
    "# Multiplication function returning product of two numbers.\n",
    "def multiplication(a,b):\n",
    "    return a*b"
   ]
  },
  {
   "cell_type": "code",
   "execution_count": 23,
   "id": "c3760e43-3fbf-4f3f-8474-97fd289dd578",
   "metadata": {},
   "outputs": [],
   "source": [
    "# Exponentiation function returning exponent of a to b.\n",
    "def exponentiation(a,b):\n",
    "    return a**b"
   ]
  },
  {
   "cell_type": "code",
   "execution_count": 24,
   "id": "392b69bf-57c0-4dc3-b801-c3a17f6fde20",
   "metadata": {},
   "outputs": [],
   "source": [
    "# Division function returning a divided by b.\n",
    "def division(a,b):\n",
    "    if b==0:\n",
    "        return \"Error: Division by zero\" \n",
    "    return a/b"
   ]
  },
  {
   "cell_type": "code",
   "execution_count": 25,
   "id": "4c9c8b4e-142e-412e-be99-05e46a206391",
   "metadata": {},
   "outputs": [],
   "source": [
    "# Remainder function returns the remainder using the modulo operator.\n",
    "def remainder(a,b):\n",
    "    return a%b"
   ]
  },
  {
   "cell_type": "code",
   "execution_count": 45,
   "id": "afea4c52-95bb-4406-92e5-67cb7315d13f",
   "metadata": {},
   "outputs": [
    {
     "name": "stdout",
     "output_type": "stream",
     "text": [
      "Select operation:\n",
      "1.Addition\n",
      "2.Subtraction\n",
      "3.Multiplication\n",
      "4.Exponentiation\n",
      "5.Division\n",
      "6.Remainder\n",
      "7.Exit\n"
     ]
    },
    {
     "name": "stdin",
     "output_type": "stream",
     "text": [
      "Enter your operation: 1/2/3/4/5/6/7 7\n"
     ]
    },
    {
     "name": "stdout",
     "output_type": "stream",
     "text": [
      "Thanks for using my calculator!\n"
     ]
    }
   ],
   "source": [
    "def basic_calculator():\n",
    "    print(\"Select operation:\")\n",
    "    print(f\"1.Addition\\n2.Subtraction\\n3.Multiplication\\n4.Exponentiation\\n5.Division\\n6.Remainder\\n7.Exit\")\n",
    "    operation=input(\"Enter your operation: 1/2/3/4/5/6/7\")\n",
    "    a=None\n",
    "    b=None\n",
    "    if operation in (\"1\",\"2\",\"3\",\"4\",\"5\",\"6\"):\n",
    "        a=float(input(\"Enter your number a: \"))\n",
    "        b=float(input(\"Enter your number b: \"))\n",
    "    if operation==\"1\":\n",
    "        return f\"So, We are performing Addition Operation.\\nResult: {addition(a,b)}\"\n",
    "    elif operation==\"2\":\n",
    "        return f\"So, We are performing Subtraction Operation.\\nResult: {subtraction(a,b)}\"\n",
    "    elif operation==\"3\":\n",
    "        return f\"So, We are performing Multiplication Operation.\\nResult: {multiplication(a,b)}\"\n",
    "    elif operation==\"4\":\n",
    "        return f\"So, We are performing Exponentiation Operation.\\nResult: {exponentiation(a,b)}\"\n",
    "    elif operation==\"5\":\n",
    "        return f\"So, We are performing Division Operation.\\nResult: {division(a,b)}\"\n",
    "    elif operation==\"6\":\n",
    "        return f\"So, We are performing Remainder Operation.\\nResult: {remainder(a,b)}\"\n",
    "    elif operation==\"7\":\n",
    "        print(\"Thanks for using my calculator📱!\")\n",
    "        return None\n",
    "    else:\n",
    "        print(\"Invalid Operation.Select the correct operation in 1,2,3,4,5,6\")\n",
    "        return None\n",
    "while True:\n",
    "    result=basic_calculator()\n",
    "    if result ==None:\n",
    "        break\n",
    "    print(result)"
   ]
  },
  {
   "cell_type": "code",
   "execution_count": null,
   "id": "e3644cba-2f13-4ff1-a87a-7c559c60aba0",
   "metadata": {},
   "outputs": [],
   "source": []
  }
 ],
 "metadata": {
  "kernelspec": {
   "display_name": "Python 3 (ipykernel)",
   "language": "python",
   "name": "python3"
  },
  "language_info": {
   "codemirror_mode": {
    "name": "ipython",
    "version": 3
   },
   "file_extension": ".py",
   "mimetype": "text/x-python",
   "name": "python",
   "nbconvert_exporter": "python",
   "pygments_lexer": "ipython3",
   "version": "3.12.7"
  }
 },
 "nbformat": 4,
 "nbformat_minor": 5
}
